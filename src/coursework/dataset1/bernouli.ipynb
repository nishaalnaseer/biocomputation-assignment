{
 "cells": [
  {
   "cell_type": "code",
   "execution_count": 13,
   "id": "initial_id",
   "metadata": {
    "collapsed": true,
    "ExecuteTime": {
     "end_time": "2024-02-16T17:06:01.504888Z",
     "start_time": "2024-02-16T17:06:01.499570Z"
    }
   },
   "outputs": [],
   "source": [
    "from sklearn.neural_network import MLPRegressor, BernoulliRBM\n",
    "from preprocess import *"
   ]
  },
  {
   "cell_type": "code",
   "outputs": [],
   "source": [
    "learning_rates = [0.01, 0.05, 0.1, 0.3, 0.5, 0.7, 1]\n",
    "dataset = prepare()"
   ],
   "metadata": {
    "collapsed": false,
    "ExecuteTime": {
     "end_time": "2024-02-16T17:06:01.547726Z",
     "start_time": "2024-02-16T17:06:01.542535Z"
    }
   },
   "id": "dc2b27a8fc128c6c",
   "execution_count": 14
  },
  {
   "cell_type": "code",
   "outputs": [],
   "source": [
    "def process(dataset, rate):\n",
    "    clf = BernoulliRBM(learning_rate=rate)\n",
    "    clf.fit(dataset.train_inp, dataset.train_out)\n",
    "    return clf.(dataset.test_inp, dataset.test_out)"
   ],
   "metadata": {
    "collapsed": false,
    "ExecuteTime": {
     "end_time": "2024-02-16T17:06:01.565821Z",
     "start_time": "2024-02-16T17:06:01.559270Z"
    }
   },
   "id": "8675c21dfd2a2a64",
   "execution_count": 15
  },
  {
   "cell_type": "code",
   "outputs": [
    {
     "ename": "AttributeError",
     "evalue": "'BernoulliRBM' object has no attribute 'score'",
     "output_type": "error",
     "traceback": [
      "\u001B[1;31m---------------------------------------------------------------------------\u001B[0m",
      "\u001B[1;31mAttributeError\u001B[0m                            Traceback (most recent call last)",
      "Cell \u001B[1;32mIn[16], line 3\u001B[0m\n\u001B[0;32m      1\u001B[0m clf \u001B[38;5;241m=\u001B[39m BernoulliRBM()\n\u001B[0;32m      2\u001B[0m accuracies \u001B[38;5;241m=\u001B[39m {\n\u001B[1;32m----> 3\u001B[0m     x: \u001B[43mprocess\u001B[49m\u001B[43m(\u001B[49m\n\u001B[0;32m      4\u001B[0m \u001B[43m        \u001B[49m\u001B[43mdataset\u001B[49m\u001B[43m,\u001B[49m\u001B[43m \u001B[49m\u001B[43mx\u001B[49m\u001B[43m,\u001B[49m\n\u001B[0;32m      5\u001B[0m \u001B[43m    \u001B[49m\u001B[43m)\u001B[49m \u001B[38;5;28;01mfor\u001B[39;00m x \u001B[38;5;129;01min\u001B[39;00m learning_rates\n\u001B[0;32m      6\u001B[0m }\n\u001B[0;32m      7\u001B[0m accuracies\n",
      "Cell \u001B[1;32mIn[15], line 4\u001B[0m, in \u001B[0;36mprocess\u001B[1;34m(dataset, rate)\u001B[0m\n\u001B[0;32m      2\u001B[0m clf \u001B[38;5;241m=\u001B[39m BernoulliRBM(learning_rate\u001B[38;5;241m=\u001B[39mrate)\n\u001B[0;32m      3\u001B[0m clf\u001B[38;5;241m.\u001B[39mfit(dataset\u001B[38;5;241m.\u001B[39mtrain_inp, dataset\u001B[38;5;241m.\u001B[39mtrain_out)\n\u001B[1;32m----> 4\u001B[0m \u001B[38;5;28;01mreturn\u001B[39;00m \u001B[43mclf\u001B[49m\u001B[38;5;241;43m.\u001B[39;49m\u001B[43mscore\u001B[49m(dataset\u001B[38;5;241m.\u001B[39mtest_inp, dataset\u001B[38;5;241m.\u001B[39mtest_out)\n",
      "\u001B[1;31mAttributeError\u001B[0m: 'BernoulliRBM' object has no attribute 'score'"
     ]
    }
   ],
   "source": [
    "clf = BernoulliRBM()\n",
    "accuracies = {\n",
    "    x: process(\n",
    "        dataset, x,\n",
    "    ) for x in learning_rates\n",
    "}\n",
    "accuracies"
   ],
   "metadata": {
    "collapsed": false,
    "ExecuteTime": {
     "end_time": "2024-02-16T17:06:01.611227Z",
     "start_time": "2024-02-16T17:06:01.568854Z"
    }
   },
   "id": "5074e1234707426b",
   "execution_count": 16
  }
 ],
 "metadata": {
  "kernelspec": {
   "display_name": "Python 3",
   "language": "python",
   "name": "python3"
  },
  "language_info": {
   "codemirror_mode": {
    "name": "ipython",
    "version": 2
   },
   "file_extension": ".py",
   "mimetype": "text/x-python",
   "name": "python",
   "nbconvert_exporter": "python",
   "pygments_lexer": "ipython2",
   "version": "2.7.6"
  }
 },
 "nbformat": 4,
 "nbformat_minor": 5
}
