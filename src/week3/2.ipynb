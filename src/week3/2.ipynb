{
 "cells": [
  {
   "cell_type": "code",
   "execution_count": 2,
   "id": "initial_id",
   "metadata": {
    "collapsed": true,
    "ExecuteTime": {
     "end_time": "2024-02-15T14:47:18.435862300Z",
     "start_time": "2024-02-15T14:47:17.528907500Z"
    }
   },
   "outputs": [],
   "source": [
    "import pandas as pd"
   ]
  },
  {
   "cell_type": "code",
   "outputs": [],
   "source": [
    "data = {\n",
    "    \"Name\": [\"Alice\", \"Bob\", \"Charlie\", \"Diana\", \"Emily\", \"Frank\", \"Gina\", \"Harry\", \"Ivy\", \"Jack\",\n",
    "             \"Kelly\", \"Liam\", \"Mia\", \"Nathan\", \"Olivia\", \"Peter\", \"Quinn\", \"Ryan\", \"Sophia\", \"Thomas\",\n",
    "             \"Ursula\", \"Vincent\", \"Wendy\", \"Xavier\", \"Yvonne\", \"Zachary\"],\n",
    "    \"Age\": [20, 22, 19, 21, 20, 23, 22, 20, 21, 22, 19, 20, 22, 21, 20, 23, 22, 19, 21, 20, 22, 23, 20, 21, 22, 19],\n",
    "    \"Math\": [85, 72, 78, 90, 88, 75, 83, 79, 87, 81, 76, 84, 79, 82, 86, 77, 80, 88, 85, 89, 76, 83, 78, 84, 81, 85],\n",
    "    \"Physics\": [78, 90, 82, 85, 79, 81, 77, 85, 80, 86, 83, 89, 85, 87, 88, 84, 81, 79, 83, 87, 85, 82, 79, 86, 88, 84],\n",
    "    \"Chemistry\": [90, 85, 88, 92, 86, 89, 91, 88, 90, 87, 88, 84, 87, 89, 85, 86, 90, 87, 88, 82, 89, 86, 90, 88, 85, 89],\n",
    "    \"Gender\": [\"Female\", \"Male\", \"Male\", \"Female\", \"Female\", \"Male\", \"Female\", \"Male\", \"Female\", \"Male\",\n",
    "               \"Female\", \"Male\", \"Female\", \"Male\", \"Female\", \"Male\", \"Female\", \"Male\", \"Female\", \"Male\",\n",
    "               \"Female\", \"Male\", \"Female\", \"Male\", \"Female\", \"Male\"]\n",
    "}\n"
   ],
   "metadata": {
    "collapsed": false,
    "ExecuteTime": {
     "end_time": "2024-02-15T14:47:18.461171400Z",
     "start_time": "2024-02-15T14:47:18.443705900Z"
    }
   },
   "id": "f03d3afd0b981a6e",
   "execution_count": 3
  },
  {
   "cell_type": "code",
   "outputs": [
    {
     "data": {
      "text/plain": "       Name  Age  Math  Physics  Chemistry  Gender\n0     Alice   20    85       78         90  Female\n1       Bob   22    72       90         85    Male\n2   Charlie   19    78       82         88    Male\n3     Diana   21    90       85         92  Female\n4     Emily   20    88       79         86  Female\n5     Frank   23    75       81         89    Male\n6      Gina   22    83       77         91  Female\n7     Harry   20    79       85         88    Male\n8       Ivy   21    87       80         90  Female\n9      Jack   22    81       86         87    Male\n10    Kelly   19    76       83         88  Female\n11     Liam   20    84       89         84    Male\n12      Mia   22    79       85         87  Female\n13   Nathan   21    82       87         89    Male\n14   Olivia   20    86       88         85  Female\n15    Peter   23    77       84         86    Male\n16    Quinn   22    80       81         90  Female\n17     Ryan   19    88       79         87    Male\n18   Sophia   21    85       83         88  Female\n19   Thomas   20    89       87         82    Male\n20   Ursula   22    76       85         89  Female\n21  Vincent   23    83       82         86    Male\n22    Wendy   20    78       79         90  Female\n23   Xavier   21    84       86         88    Male\n24   Yvonne   22    81       88         85  Female\n25  Zachary   19    85       84         89    Male",
      "text/html": "<div>\n<style scoped>\n    .dataframe tbody tr th:only-of-type {\n        vertical-align: middle;\n    }\n\n    .dataframe tbody tr th {\n        vertical-align: top;\n    }\n\n    .dataframe thead th {\n        text-align: right;\n    }\n</style>\n<table border=\"1\" class=\"dataframe\">\n  <thead>\n    <tr style=\"text-align: right;\">\n      <th></th>\n      <th>Name</th>\n      <th>Age</th>\n      <th>Math</th>\n      <th>Physics</th>\n      <th>Chemistry</th>\n      <th>Gender</th>\n    </tr>\n  </thead>\n  <tbody>\n    <tr>\n      <th>0</th>\n      <td>Alice</td>\n      <td>20</td>\n      <td>85</td>\n      <td>78</td>\n      <td>90</td>\n      <td>Female</td>\n    </tr>\n    <tr>\n      <th>1</th>\n      <td>Bob</td>\n      <td>22</td>\n      <td>72</td>\n      <td>90</td>\n      <td>85</td>\n      <td>Male</td>\n    </tr>\n    <tr>\n      <th>2</th>\n      <td>Charlie</td>\n      <td>19</td>\n      <td>78</td>\n      <td>82</td>\n      <td>88</td>\n      <td>Male</td>\n    </tr>\n    <tr>\n      <th>3</th>\n      <td>Diana</td>\n      <td>21</td>\n      <td>90</td>\n      <td>85</td>\n      <td>92</td>\n      <td>Female</td>\n    </tr>\n    <tr>\n      <th>4</th>\n      <td>Emily</td>\n      <td>20</td>\n      <td>88</td>\n      <td>79</td>\n      <td>86</td>\n      <td>Female</td>\n    </tr>\n    <tr>\n      <th>5</th>\n      <td>Frank</td>\n      <td>23</td>\n      <td>75</td>\n      <td>81</td>\n      <td>89</td>\n      <td>Male</td>\n    </tr>\n    <tr>\n      <th>6</th>\n      <td>Gina</td>\n      <td>22</td>\n      <td>83</td>\n      <td>77</td>\n      <td>91</td>\n      <td>Female</td>\n    </tr>\n    <tr>\n      <th>7</th>\n      <td>Harry</td>\n      <td>20</td>\n      <td>79</td>\n      <td>85</td>\n      <td>88</td>\n      <td>Male</td>\n    </tr>\n    <tr>\n      <th>8</th>\n      <td>Ivy</td>\n      <td>21</td>\n      <td>87</td>\n      <td>80</td>\n      <td>90</td>\n      <td>Female</td>\n    </tr>\n    <tr>\n      <th>9</th>\n      <td>Jack</td>\n      <td>22</td>\n      <td>81</td>\n      <td>86</td>\n      <td>87</td>\n      <td>Male</td>\n    </tr>\n    <tr>\n      <th>10</th>\n      <td>Kelly</td>\n      <td>19</td>\n      <td>76</td>\n      <td>83</td>\n      <td>88</td>\n      <td>Female</td>\n    </tr>\n    <tr>\n      <th>11</th>\n      <td>Liam</td>\n      <td>20</td>\n      <td>84</td>\n      <td>89</td>\n      <td>84</td>\n      <td>Male</td>\n    </tr>\n    <tr>\n      <th>12</th>\n      <td>Mia</td>\n      <td>22</td>\n      <td>79</td>\n      <td>85</td>\n      <td>87</td>\n      <td>Female</td>\n    </tr>\n    <tr>\n      <th>13</th>\n      <td>Nathan</td>\n      <td>21</td>\n      <td>82</td>\n      <td>87</td>\n      <td>89</td>\n      <td>Male</td>\n    </tr>\n    <tr>\n      <th>14</th>\n      <td>Olivia</td>\n      <td>20</td>\n      <td>86</td>\n      <td>88</td>\n      <td>85</td>\n      <td>Female</td>\n    </tr>\n    <tr>\n      <th>15</th>\n      <td>Peter</td>\n      <td>23</td>\n      <td>77</td>\n      <td>84</td>\n      <td>86</td>\n      <td>Male</td>\n    </tr>\n    <tr>\n      <th>16</th>\n      <td>Quinn</td>\n      <td>22</td>\n      <td>80</td>\n      <td>81</td>\n      <td>90</td>\n      <td>Female</td>\n    </tr>\n    <tr>\n      <th>17</th>\n      <td>Ryan</td>\n      <td>19</td>\n      <td>88</td>\n      <td>79</td>\n      <td>87</td>\n      <td>Male</td>\n    </tr>\n    <tr>\n      <th>18</th>\n      <td>Sophia</td>\n      <td>21</td>\n      <td>85</td>\n      <td>83</td>\n      <td>88</td>\n      <td>Female</td>\n    </tr>\n    <tr>\n      <th>19</th>\n      <td>Thomas</td>\n      <td>20</td>\n      <td>89</td>\n      <td>87</td>\n      <td>82</td>\n      <td>Male</td>\n    </tr>\n    <tr>\n      <th>20</th>\n      <td>Ursula</td>\n      <td>22</td>\n      <td>76</td>\n      <td>85</td>\n      <td>89</td>\n      <td>Female</td>\n    </tr>\n    <tr>\n      <th>21</th>\n      <td>Vincent</td>\n      <td>23</td>\n      <td>83</td>\n      <td>82</td>\n      <td>86</td>\n      <td>Male</td>\n    </tr>\n    <tr>\n      <th>22</th>\n      <td>Wendy</td>\n      <td>20</td>\n      <td>78</td>\n      <td>79</td>\n      <td>90</td>\n      <td>Female</td>\n    </tr>\n    <tr>\n      <th>23</th>\n      <td>Xavier</td>\n      <td>21</td>\n      <td>84</td>\n      <td>86</td>\n      <td>88</td>\n      <td>Male</td>\n    </tr>\n    <tr>\n      <th>24</th>\n      <td>Yvonne</td>\n      <td>22</td>\n      <td>81</td>\n      <td>88</td>\n      <td>85</td>\n      <td>Female</td>\n    </tr>\n    <tr>\n      <th>25</th>\n      <td>Zachary</td>\n      <td>19</td>\n      <td>85</td>\n      <td>84</td>\n      <td>89</td>\n      <td>Male</td>\n    </tr>\n  </tbody>\n</table>\n</div>"
     },
     "execution_count": 12,
     "metadata": {},
     "output_type": "execute_result"
    }
   ],
   "source": [
    "df = pd.DataFrame(data)\n",
    "df"
   ],
   "metadata": {
    "collapsed": false,
    "ExecuteTime": {
     "end_time": "2024-02-15T14:49:24.064737900Z",
     "start_time": "2024-02-15T14:49:23.992809600Z"
    }
   },
   "id": "3ad114ecc853c638",
   "execution_count": 12
  },
  {
   "cell_type": "code",
   "outputs": [
    {
     "data": {
      "text/plain": "26"
     },
     "execution_count": 6,
     "metadata": {},
     "output_type": "execute_result"
    }
   ],
   "source": [
    "len(df)"
   ],
   "metadata": {
    "collapsed": false,
    "ExecuteTime": {
     "end_time": "2024-02-15T14:47:46.728073300Z",
     "start_time": "2024-02-15T14:47:46.696836400Z"
    }
   },
   "id": "3b057b5e796432f9",
   "execution_count": 6
  },
  {
   "cell_type": "code",
   "outputs": [],
   "source": [
    "math = df[\"Math\"]\n"
   ],
   "metadata": {
    "collapsed": false,
    "ExecuteTime": {
     "end_time": "2024-02-15T14:48:17.457252800Z",
     "start_time": "2024-02-15T14:48:17.435615900Z"
    }
   },
   "id": "9217462968a57040",
   "execution_count": 8
  },
  {
   "cell_type": "code",
   "outputs": [
    {
     "data": {
      "text/plain": "<Axes: ylabel='Frequency'>"
     },
     "execution_count": 10,
     "metadata": {},
     "output_type": "execute_result"
    },
    {
     "data": {
      "text/plain": "<Figure size 640x480 with 1 Axes>",
      "image/png": "[encoded data removed]"
     },
     "metadata": {},
     "output_type": "display_data"
    }
   ],
   "source": [
    "math.plot(kind=\"hist\")"
   ],
   "metadata": {
    "collapsed": false,
    "ExecuteTime": {
     "end_time": "2024-02-15T14:48:32.143998600Z",
     "start_time": "2024-02-15T14:48:31.443607100Z"
    }
   },
   "id": "f897cf2c690a0f1c",
   "execution_count": 10
  },
  {
   "cell_type": "code",
   "outputs": [],
   "source": [
    "correlation = df['Age'].corr(df['Chemistry'])"
   ],
   "metadata": {
    "collapsed": false,
    "ExecuteTime": {
     "end_time": "2024-02-15T14:53:43.286631300Z",
     "start_time": "2024-02-15T14:53:43.260046700Z"
    }
   },
   "id": "5203a30a93bfd451",
   "execution_count": 17
  },
  {
   "cell_type": "code",
   "outputs": [
    {
     "data": {
      "text/plain": "0.030603069176575345"
     },
     "execution_count": 18,
     "metadata": {},
     "output_type": "execute_result"
    }
   ],
   "source": [
    "correlation"
   ],
   "metadata": {
    "collapsed": false,
    "ExecuteTime": {
     "end_time": "2024-02-15T14:53:46.092457300Z",
     "start_time": "2024-02-15T14:53:46.070319500Z"
    }
   },
   "id": "19d4f2f2193c5b57",
   "execution_count": 18
  },
  {
   "cell_type": "code",
   "outputs": [
    {
     "data": {
      "text/plain": "       Name  Age  Math  Physics  Chemistry  Gender  Total\n0     Alice   20    85       78         90  Female    253\n1       Bob   22    72       90         85    Male    247\n2   Charlie   19    78       82         88    Male    248\n3     Diana   21    90       85         92  Female    267\n4     Emily   20    88       79         86  Female    253\n5     Frank   23    75       81         89    Male    245\n6      Gina   22    83       77         91  Female    251\n7     Harry   20    79       85         88    Male    252\n8       Ivy   21    87       80         90  Female    257\n9      Jack   22    81       86         87    Male    254\n10    Kelly   19    76       83         88  Female    247\n11     Liam   20    84       89         84    Male    257\n12      Mia   22    79       85         87  Female    251\n13   Nathan   21    82       87         89    Male    258\n14   Olivia   20    86       88         85  Female    259\n15    Peter   23    77       84         86    Male    247\n16    Quinn   22    80       81         90  Female    251\n17     Ryan   19    88       79         87    Male    254\n18   Sophia   21    85       83         88  Female    256\n19   Thomas   20    89       87         82    Male    258\n20   Ursula   22    76       85         89  Female    250\n21  Vincent   23    83       82         86    Male    251\n22    Wendy   20    78       79         90  Female    247\n23   Xavier   21    84       86         88    Male    258\n24   Yvonne   22    81       88         85  Female    254\n25  Zachary   19    85       84         89    Male    258",
      "text/html": "<div>\n<style scoped>\n    .dataframe tbody tr th:only-of-type {\n        vertical-align: middle;\n    }\n\n    .dataframe tbody tr th {\n        vertical-align: top;\n    }\n\n    .dataframe thead th {\n        text-align: right;\n    }\n</style>\n<table border=\"1\" class=\"dataframe\">\n  <thead>\n    <tr style=\"text-align: right;\">\n      <th></th>\n      <th>Name</th>\n      <th>Age</th>\n      <th>Math</th>\n      <th>Physics</th>\n      <th>Chemistry</th>\n      <th>Gender</th>\n      <th>Total</th>\n    </tr>\n  </thead>\n  <tbody>\n    <tr>\n      <th>0</th>\n      <td>Alice</td>\n      <td>20</td>\n      <td>85</td>\n      <td>78</td>\n      <td>90</td>\n      <td>Female</td>\n      <td>253</td>\n    </tr>\n    <tr>\n      <th>1</th>\n      <td>Bob</td>\n      <td>22</td>\n      <td>72</td>\n      <td>90</td>\n      <td>85</td>\n      <td>Male</td>\n      <td>247</td>\n    </tr>\n    <tr>\n      <th>2</th>\n      <td>Charlie</td>\n      <td>19</td>\n      <td>78</td>\n      <td>82</td>\n      <td>88</td>\n      <td>Male</td>\n      <td>248</td>\n    </tr>\n    <tr>\n      <th>3</th>\n      <td>Diana</td>\n      <td>21</td>\n      <td>90</td>\n      <td>85</td>\n      <td>92</td>\n      <td>Female</td>\n      <td>267</td>\n    </tr>\n    <tr>\n      <th>4</th>\n      <td>Emily</td>\n      <td>20</td>\n      <td>88</td>\n      <td>79</td>\n      <td>86</td>\n      <td>Female</td>\n      <td>253</td>\n    </tr>\n    <tr>\n      <th>5</th>\n      <td>Frank</td>\n      <td>23</td>\n      <td>75</td>\n      <td>81</td>\n      <td>89</td>\n      <td>Male</td>\n      <td>245</td>\n    </tr>\n    <tr>\n      <th>6</th>\n      <td>Gina</td>\n      <td>22</td>\n      <td>83</td>\n      <td>77</td>\n      <td>91</td>\n      <td>Female</td>\n      <td>251</td>\n    </tr>\n    <tr>\n      <th>7</th>\n      <td>Harry</td>\n      <td>20</td>\n      <td>79</td>\n      <td>85</td>\n      <td>88</td>\n      <td>Male</td>\n      <td>252</td>\n    </tr>\n    <tr>\n      <th>8</th>\n      <td>Ivy</td>\n      <td>21</td>\n      <td>87</td>\n      <td>80</td>\n      <td>90</td>\n      <td>Female</td>\n      <td>257</td>\n    </tr>\n    <tr>\n      <th>9</th>\n      <td>Jack</td>\n      <td>22</td>\n      <td>81</td>\n      <td>86</td>\n      <td>87</td>\n      <td>Male</td>\n      <td>254</td>\n    </tr>\n    <tr>\n      <th>10</th>\n      <td>Kelly</td>\n      <td>19</td>\n      <td>76</td>\n      <td>83</td>\n      <td>88</td>\n      <td>Female</td>\n      <td>247</td>\n    </tr>\n    <tr>\n      <th>11</th>\n      <td>Liam</td>\n      <td>20</td>\n      <td>84</td>\n      <td>89</td>\n      <td>84</td>\n      <td>Male</td>\n      <td>257</td>\n    </tr>\n    <tr>\n      <th>12</th>\n      <td>Mia</td>\n      <td>22</td>\n      <td>79</td>\n      <td>85</td>\n      <td>87</td>\n      <td>Female</td>\n      <td>251</td>\n    </tr>\n    <tr>\n      <th>13</th>\n      <td>Nathan</td>\n      <td>21</td>\n      <td>82</td>\n      <td>87</td>\n      <td>89</td>\n      <td>Male</td>\n      <td>258</td>\n    </tr>\n    <tr>\n      <th>14</th>\n      <td>Olivia</td>\n      <td>20</td>\n      <td>86</td>\n      <td>88</td>\n      <td>85</td>\n      <td>Female</td>\n      <td>259</td>\n    </tr>\n    <tr>\n      <th>15</th>\n      <td>Peter</td>\n      <td>23</td>\n      <td>77</td>\n      <td>84</td>\n      <td>86</td>\n      <td>Male</td>\n      <td>247</td>\n    </tr>\n    <tr>\n      <th>16</th>\n      <td>Quinn</td>\n      <td>22</td>\n      <td>80</td>\n      <td>81</td>\n      <td>90</td>\n      <td>Female</td>\n      <td>251</td>\n    </tr>\n    <tr>\n      <th>17</th>\n      <td>Ryan</td>\n      <td>19</td>\n      <td>88</td>\n      <td>79</td>\n      <td>87</td>\n      <td>Male</td>\n      <td>254</td>\n    </tr>\n    <tr>\n      <th>18</th>\n      <td>Sophia</td>\n      <td>21</td>\n      <td>85</td>\n      <td>83</td>\n      <td>88</td>\n      <td>Female</td>\n      <td>256</td>\n    </tr>\n    <tr>\n      <th>19</th>\n      <td>Thomas</td>\n      <td>20</td>\n      <td>89</td>\n      <td>87</td>\n      <td>82</td>\n      <td>Male</td>\n      <td>258</td>\n    </tr>\n    <tr>\n      <th>20</th>\n      <td>Ursula</td>\n      <td>22</td>\n      <td>76</td>\n      <td>85</td>\n      <td>89</td>\n      <td>Female</td>\n      <td>250</td>\n    </tr>\n    <tr>\n      <th>21</th>\n      <td>Vincent</td>\n      <td>23</td>\n      <td>83</td>\n      <td>82</td>\n      <td>86</td>\n      <td>Male</td>\n      <td>251</td>\n    </tr>\n    <tr>\n      <th>22</th>\n      <td>Wendy</td>\n      <td>20</td>\n      <td>78</td>\n      <td>79</td>\n      <td>90</td>\n      <td>Female</td>\n      <td>247</td>\n    </tr>\n    <tr>\n      <th>23</th>\n      <td>Xavier</td>\n      <td>21</td>\n      <td>84</td>\n      <td>86</td>\n      <td>88</td>\n      <td>Male</td>\n      <td>258</td>\n    </tr>\n    <tr>\n      <th>24</th>\n      <td>Yvonne</td>\n      <td>22</td>\n      <td>81</td>\n      <td>88</td>\n      <td>85</td>\n      <td>Female</td>\n      <td>254</td>\n    </tr>\n    <tr>\n      <th>25</th>\n      <td>Zachary</td>\n      <td>19</td>\n      <td>85</td>\n      <td>84</td>\n      <td>89</td>\n      <td>Male</td>\n      <td>258</td>\n    </tr>\n  </tbody>\n</table>\n</div>"
     },
     "execution_count": 21,
     "metadata": {},
     "output_type": "execute_result"
    }
   ],
   "source": [
    "df[\"Total\"] = df[\"Chemistry\"] + df[\"Math\"] + df[\"Physics\"]\n",
    "df"
   ],
   "metadata": {
    "collapsed": false,
    "ExecuteTime": {
     "end_time": "2024-02-15T14:56:20.983722600Z",
     "start_time": "2024-02-15T14:56:20.962709700Z"
    }
   },
   "id": "7d31ec5a6e96c784",
   "execution_count": 21
  },
  {
   "cell_type": "code",
   "outputs": [],
   "source": [],
   "metadata": {
    "collapsed": false
   },
   "id": "4efe81b87b6eb519"
  }
 ],
 "metadata": {
  "kernelspec": {
   "display_name": "Python 3",
   "language": "python",
   "name": "python3"
  },
  "language_info": {
   "codemirror_mode": {
    "name": "ipython",
    "version": 2
   },
   "file_extension": ".py",
   "mimetype": "text/x-python",
   "name": "python",
   "nbconvert_exporter": "python",
   "pygments_lexer": "ipython2",
   "version": "2.7.6"
  }
 },
 "nbformat": 4,
 "nbformat_minor": 5
}
