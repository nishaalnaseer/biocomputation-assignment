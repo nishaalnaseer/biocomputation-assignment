{
 "cells": [
  {
   "cell_type": "code",
   "execution_count": 110,
   "id": "initial_id",
   "metadata": {
    "collapsed": true,
    "ExecuteTime": {
     "end_time": "2024-02-03T19:46:17.183271300Z",
     "start_time": "2024-02-03T19:46:17.059537600Z"
    }
   },
   "outputs": [],
   "source": [
    "import csv\n",
    "import random\n",
    "import numpy as np"
   ]
  },
  {
   "cell_type": "code",
   "outputs": [],
   "source": [
    "def load_text_data(filepath: str):\n",
    "    outputs = []\n",
    "    inputs = []\n",
    "    with open(filepath, 'r') as f:\n",
    "        _data = f.read()\n",
    "        _data = _data.split(\"\\n\")\n",
    "        _data = _data[1:]\n",
    "        random.shuffle(_data)\n",
    "        \n",
    "\n",
    "        \n",
    "        for row in _data:\n",
    "            row = row.split(\" \")\n",
    "            output = row[-1]\n",
    "            inputs_raw = row[0]\n",
    "            \n",
    "            inputs.append(np.array([x for x in inputs_raw], dtype=int))\n",
    "            outputs.append(output)\n",
    "            \n",
    "    return [np.array(inputs), np.array(outputs, dtype=int).T]"
   ],
   "metadata": {
    "collapsed": false,
    "ExecuteTime": {
     "end_time": "2024-02-03T19:46:17.211100Z",
     "start_time": "2024-02-03T19:46:17.123724200Z"
    }
   },
   "id": "43dbb2f16f7e4cf0",
   "execution_count": 111
  },
  {
   "cell_type": "code",
   "outputs": [],
   "source": [
    "data = load_text_data(\"../data/data1.txt\")"
   ],
   "metadata": {
    "collapsed": false,
    "ExecuteTime": {
     "end_time": "2024-02-03T19:46:17.243864Z",
     "start_time": "2024-02-03T19:46:17.193864900Z"
    }
   },
   "id": "711d0106eaea09ad",
   "execution_count": 112
  },
  {
   "cell_type": "code",
   "outputs": [],
   "source": [
    "train_len = int(len(data[0]) * 0.75)\n",
    "inputs = data[0]\n",
    "outputs = data[1]\n",
    "train_inputs = inputs[:train_len]\n",
    "train_outputs = outputs[:train_len]\n",
    "test_inputs = inputs[train_len+1:]\n",
    "test_outputs = outputs[train_len+1:]"
   ],
   "metadata": {
    "collapsed": false,
    "ExecuteTime": {
     "end_time": "2024-02-03T19:46:17.275225700Z",
     "start_time": "2024-02-03T19:46:17.247882Z"
    }
   },
   "id": "39015f4a38441f97",
   "execution_count": 113
  },
  {
   "cell_type": "code",
   "outputs": [
    {
     "name": "stdout",
     "output_type": "stream",
     "text": [
      "Train inputs len = 24\n",
      "Train outputs len = 24\n",
      "Test outputs len = 7\n",
      "Test outputs len = 7\n"
     ]
    }
   ],
   "source": [
    "print(\n",
    "    f\"Train inputs len = {len(train_inputs)}\\n\"\n",
    "    f\"Train outputs len = {len(train_outputs)}\\n\"\n",
    "    f\"Test outputs len = {len(test_inputs)}\\n\"\n",
    "    f\"Test outputs len = {len(test_outputs)}\\n\"\n",
    ")"
   ],
   "metadata": {
    "collapsed": false,
    "ExecuteTime": {
     "end_time": "2024-02-03T19:46:17.326130200Z",
     "start_time": "2024-02-03T19:46:17.265346400Z"
    }
   },
   "id": "12701c6d094af970",
   "execution_count": 114
  },
  {
   "cell_type": "code",
   "outputs": [],
   "source": [
    "def sigmoid(x):\n",
    "    return 1 / (1 + np.exp(-x))"
   ],
   "metadata": {
    "collapsed": false,
    "ExecuteTime": {
     "end_time": "2024-02-03T19:46:17.327118800Z",
     "start_time": "2024-02-03T19:46:17.280218600Z"
    }
   },
   "id": "3beacb3a01c4acf9",
   "execution_count": 115
  },
  {
   "cell_type": "code",
   "outputs": [],
   "source": [
    "np.random.seed(1)\n",
    "weights = 2 * np.random.random((len(train_inputs[0]), 1)) - 1"
   ],
   "metadata": {
    "collapsed": false,
    "ExecuteTime": {
     "end_time": "2024-02-03T19:46:17.428449400Z",
     "start_time": "2024-02-03T19:46:17.309178900Z"
    }
   },
   "id": "837841fe7870c361",
   "execution_count": 116
  },
  {
   "cell_type": "code",
   "outputs": [
    {
     "name": "stdout",
     "output_type": "stream",
     "text": [
      "Starting weights = \n",
      "[[-0.16595599]\n",
      " [ 0.44064899]\n",
      " [-0.99977125]\n",
      " [-0.39533485]\n",
      " [-0.70648822]]\n"
     ]
    }
   ],
   "source": [
    "print(\"Starting weights = \")\n",
    "print(weights)"
   ],
   "metadata": {
    "collapsed": false,
    "ExecuteTime": {
     "end_time": "2024-02-03T19:46:17.521820500Z",
     "start_time": "2024-02-03T19:46:17.436989Z"
    }
   },
   "id": "f4ee9abe766dd25",
   "execution_count": 117
  },
  {
   "cell_type": "code",
   "outputs": [],
   "source": [
    "outputs = sigmoid(np.dot(train_inputs, weights))"
   ],
   "metadata": {
    "collapsed": false,
    "ExecuteTime": {
     "end_time": "2024-02-03T19:46:17.668958600Z",
     "start_time": "2024-02-03T19:46:17.524915800Z"
    }
   },
   "id": "637491bdc9623628",
   "execution_count": 118
  },
  {
   "cell_type": "code",
   "outputs": [
    {
     "name": "stdout",
     "output_type": "stream",
     "text": [
      "After training\n",
      "[[0.09384632]\n",
      " [0.36324884]\n",
      " [0.46987606]\n",
      " [0.5       ]\n",
      " [0.15963514]\n",
      " [0.27798934]\n",
      " [0.24939846]\n",
      " [0.34047592]\n",
      " [0.30425224]\n",
      " [0.33037528]\n",
      " [0.51132659]\n",
      " [0.1734943 ]\n",
      " [0.45860596]\n",
      " [0.21963768]\n",
      " [0.10894196]\n",
      " [0.3262757 ]\n",
      " [0.36375058]\n",
      " [0.40243371]\n",
      " [0.23762817]\n",
      " [0.43392884]\n",
      " [0.56824466]\n",
      " [0.2689864 ]\n",
      " [0.19285473]\n",
      " [0.60841366]]\n"
     ]
    }
   ],
   "source": [
    "print(\"After training\")\n",
    "print(outputs)"
   ],
   "metadata": {
    "collapsed": false,
    "ExecuteTime": {
     "end_time": "2024-02-03T19:46:17.776891Z",
     "start_time": "2024-02-03T19:46:17.674506700Z"
    }
   },
   "id": "94af89c6fa2f27d8",
   "execution_count": 119
  },
  {
   "cell_type": "code",
   "outputs": [],
   "source": [],
   "metadata": {
    "collapsed": false,
    "ExecuteTime": {
     "end_time": "2024-02-03T19:46:17.782894200Z",
     "start_time": "2024-02-03T19:46:17.723981200Z"
    }
   },
   "id": "b324e7839485a7f9",
   "execution_count": 119
  }
 ],
 "metadata": {
  "kernelspec": {
   "display_name": "Python 3",
   "language": "python",
   "name": "python3"
  },
  "language_info": {
   "codemirror_mode": {
    "name": "ipython",
    "version": 2
   },
   "file_extension": ".py",
   "mimetype": "text/x-python",
   "name": "python",
   "nbconvert_exporter": "python",
   "pygments_lexer": "ipython2",
   "version": "2.7.6"
  }
 },
 "nbformat": 4,
 "nbformat_minor": 5
}
