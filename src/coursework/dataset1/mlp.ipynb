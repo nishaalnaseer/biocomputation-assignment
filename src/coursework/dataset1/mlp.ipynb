{
 "cells": [
  {
   "cell_type": "code",
   "execution_count": 22,
   "id": "initial_id",
   "metadata": {
    "collapsed": true,
    "ExecuteTime": {
     "end_time": "2024-02-22T14:07:19.329173Z",
     "start_time": "2024-02-22T14:07:19.318412Z"
    }
   },
   "outputs": [],
   "source": [
    "from processing import process\n",
    "from preprocess import *\n",
    "from sklearn.neural_network import MLPClassifier\n"
   ]
  },
  {
   "cell_type": "code",
   "outputs": [],
   "source": [
    "learning_rates = [0.01, 0.05, 0.1, 0.3, 0.5, 0.7, 1]\n",
    "dataset = prepare()"
   ],
   "metadata": {
    "collapsed": false,
    "ExecuteTime": {
     "end_time": "2024-02-22T14:07:19.352402Z",
     "start_time": "2024-02-22T14:07:19.335519Z"
    }
   },
   "id": "df08cd3729f4f1a1",
   "execution_count": 23
  },
  {
   "cell_type": "code",
   "outputs": [
    {
     "data": {
      "text/plain": "{0.01: 0.375, 0.05: 0.375, 0.1: 0.125, 0.3: 0.5, 0.5: 0.5, 0.7: 0.5, 1: 0.375}"
     },
     "execution_count": 24,
     "metadata": {},
     "output_type": "execute_result"
    }
   ],
   "source": [
    "accuracies = {\n",
    "    x: process(\n",
    "        dataset, x, MLPClassifier\n",
    "    ) for x in learning_rates\n",
    "}\n",
    "accuracies"
   ],
   "metadata": {
    "collapsed": false,
    "ExecuteTime": {
     "end_time": "2024-02-22T14:07:20.303934Z",
     "start_time": "2024-02-22T14:07:19.355997Z"
    }
   },
   "id": "818ee8a8921ae01",
   "execution_count": 24
  },
  {
   "cell_type": "code",
   "outputs": [],
   "source": [],
   "metadata": {
    "collapsed": false,
    "ExecuteTime": {
     "end_time": "2024-02-22T14:07:20.325160Z",
     "start_time": "2024-02-22T14:07:20.312915Z"
    }
   },
   "id": "27e7e9a666bb3f00",
   "execution_count": 24
  }
 ],
 "metadata": {
  "kernelspec": {
   "display_name": "Python 3",
   "language": "python",
   "name": "python3"
  },
  "language_info": {
   "codemirror_mode": {
    "name": "ipython",
    "version": 2
   },
   "file_extension": ".py",
   "mimetype": "text/x-python",
   "name": "python",
   "nbconvert_exporter": "python",
   "pygments_lexer": "ipython2",
   "version": "2.7.6"
  }
 },
 "nbformat": 4,
 "nbformat_minor": 5
}
