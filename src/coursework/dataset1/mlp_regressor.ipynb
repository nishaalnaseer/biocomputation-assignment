{
 "cells": [
  {
   "cell_type": "code",
   "execution_count": 136,
   "id": "initial_id",
   "metadata": {
    "collapsed": true,
    "ExecuteTime": {
     "end_time": "2024-02-16T17:27:20.181352Z",
     "start_time": "2024-02-16T17:27:20.174985Z"
    }
   },
   "outputs": [],
   "source": [
    "from sklearn.neural_network import MLPRegressor, BernoulliRBM\n",
    "from preprocess import *"
   ]
  },
  {
   "cell_type": "code",
   "outputs": [],
   "source": [
    "learning_rates = [0.001]\n",
    "dataset = prepare()\n",
    "\n",
    "def process(dataset, rate):\n",
    "    clf = MLPRegressor(\n",
    "        hidden_layer_sizes=(8, 8),\n",
    "        activation='relu',\n",
    "        solver='adam',\n",
    "        max_iter=10000000,\n",
    "        random_state=42,\n",
    "        # learning_rate='adaptive',\n",
    "        # learning_rate_init=rate,\n",
    "    )\n",
    "\n",
    "    clf.fit(dataset.train_inp, dataset.train_out)\n",
    "    accuracy = clf.score(dataset.test_inp, dataset.test_out)\n",
    "    return accuracy\n"
   ],
   "metadata": {
    "collapsed": false,
    "ExecuteTime": {
     "end_time": "2024-02-16T17:27:20.198814Z",
     "start_time": "2024-02-16T17:27:20.183897Z"
    }
   },
   "id": "18456769d47d5926",
   "execution_count": 137
  },
  {
   "cell_type": "code",
   "outputs": [
    {
     "data": {
      "text/plain": "{0.001: -1.0476610196414762}"
     },
     "execution_count": 138,
     "metadata": {},
     "output_type": "execute_result"
    }
   ],
   "source": [
    "accuracies = {\n",
    "    x: process(\n",
    "        dataset, x\n",
    "    ) for x in learning_rates\n",
    "}   \n",
    "accuracies"
   ],
   "metadata": {
    "collapsed": false,
    "ExecuteTime": {
     "end_time": "2024-02-16T17:27:20.369468Z",
     "start_time": "2024-02-16T17:27:20.200831Z"
    }
   },
   "id": "1067d919891a3647",
   "execution_count": 138
  },
  {
   "cell_type": "code",
   "outputs": [],
   "source": [],
   "metadata": {
    "collapsed": false,
    "ExecuteTime": {
     "end_time": "2024-02-16T17:27:20.377144Z",
     "start_time": "2024-02-16T17:27:20.372494Z"
    }
   },
   "id": "bff96363439e0e01",
   "execution_count": 138
  }
 ],
 "metadata": {
  "kernelspec": {
   "display_name": "Python 3",
   "language": "python",
   "name": "python3"
  },
  "language_info": {
   "codemirror_mode": {
    "name": "ipython",
    "version": 2
   },
   "file_extension": ".py",
   "mimetype": "text/x-python",
   "name": "python",
   "nbconvert_exporter": "python",
   "pygments_lexer": "ipython2",
   "version": "2.7.6"
  }
 },
 "nbformat": 4,
 "nbformat_minor": 5
}
